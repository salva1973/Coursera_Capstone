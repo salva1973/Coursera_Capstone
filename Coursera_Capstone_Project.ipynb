{
    "cells": [
        {
            "cell_type": "code",
            "execution_count": null,
            "source": [],
            "outputs": [],
            "metadata": {}
        },
        {
            "cell_type": "markdown",
            "source": [
                "# Coursera Capstone Project Notebook"
            ],
            "metadata": {}
        },
        {
            "cell_type": "code",
            "execution_count": 3,
            "source": [
                "pip install pandas"
            ],
            "outputs": [
                {
                    "output_type": "stream",
                    "name": "stdout",
                    "text": [
                        "Collecting pandas\n",
                        "  Downloading pandas-1.3.1-cp39-cp39-macosx_10_9_x86_64.whl (11.3 MB)\n",
                        "\u001b[K     |████████████████████████████████| 11.3 MB 8.3 MB/s \n",
                        "\u001b[?25hRequirement already satisfied: python-dateutil>=2.7.3 in /Users/salva/Projects/python-examples/.venv/lib/python3.9/site-packages (from pandas) (2.8.2)\n",
                        "Collecting pytz>=2017.3\n",
                        "  Using cached pytz-2021.1-py2.py3-none-any.whl (510 kB)\n",
                        "Collecting numpy>=1.17.3\n",
                        "  Downloading numpy-1.21.1-cp39-cp39-macosx_10_9_x86_64.whl (17.0 MB)\n",
                        "\u001b[K     |████████████████████████████████| 17.0 MB 8.4 MB/s \n",
                        "\u001b[?25hRequirement already satisfied: six>=1.5 in /Users/salva/Projects/python-examples/.venv/lib/python3.9/site-packages (from python-dateutil>=2.7.3->pandas) (1.16.0)\n",
                        "Installing collected packages: pytz, numpy, pandas\n",
                        "Successfully installed numpy-1.21.1 pandas-1.3.1 pytz-2021.1\n",
                        "Note: you may need to restart the kernel to use updated packages.\n"
                    ]
                }
            ],
            "metadata": {}
        },
        {
            "cell_type": "code",
            "execution_count": null,
            "source": [
                "# import libraries\n",
                "import pandas as pd\n",
                "import numpy as np"
            ],
            "outputs": [],
            "metadata": {}
        },
        {
            "cell_type": "code",
            "execution_count": 5,
            "source": [
                "print(\"Hello Capstone Project Course!\")\n"
            ],
            "outputs": [
                {
                    "output_type": "stream",
                    "name": "stdout",
                    "text": [
                        "Hello Capstone Project Course!\n"
                    ]
                }
            ],
            "metadata": {}
        },
        {
            "cell_type": "code",
            "execution_count": null,
            "source": [],
            "outputs": [],
            "metadata": {}
        }
    ],
    "metadata": {
        "orig_nbformat": 4,
        "language_info": {
            "name": "python",
            "version": "3.9.1",
            "mimetype": "text/x-python",
            "codemirror_mode": {
                "name": "ipython",
                "version": 3
            },
            "pygments_lexer": "ipython3",
            "nbconvert_exporter": "python",
            "file_extension": ".py"
        },
        "kernelspec": {
            "name": "python3",
            "display_name": "Python 3.9.1 64-bit ('.venv': venv)"
        },
        "interpreter": {
            "hash": "b57b1d3d98faf74fdc06fe24594fc025e353950a5d6272ae9744bf41e09cbb31"
        }
    },
    "nbformat": 4,
    "nbformat_minor": 2
}